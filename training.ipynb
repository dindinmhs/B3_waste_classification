{
 "cells": [
  {
   "cell_type": "code",
   "execution_count": 2,
   "id": "5e0fff9f",
   "metadata": {},
   "outputs": [],
   "source": [
    "import pandas as pd\n",
    "from sklearn.model_selection import train_test_split\n",
    "from sklearn.pipeline import make_pipeline \n",
    "from sklearn.preprocessing import StandardScaler \n",
    "from sklearn.ensemble import AdaBoostClassifier\n",
    "from sklearn.ensemble import RandomForestClassifier\n",
    "from sklearn.svm import SVC\n",
    "import joblib\n",
    "from sklearn.model_selection import GridSearchCV, train_test_split\n",
    "from sklearn.metrics import classification_report, ConfusionMatrixDisplay\n",
    "import matplotlib.pyplot as plt"
   ]
  },
  {
   "cell_type": "code",
   "execution_count": 3,
   "id": "a4db44d7",
   "metadata": {},
   "outputs": [
    {
     "name": "stdout",
     "output_type": "stream",
     "text": [
      "<class 'pandas.core.frame.DataFrame'>\n",
      "RangeIndex: 128 entries, 0 to 127\n",
      "Columns: 8102 entries, filename to f8100\n",
      "dtypes: float64(8100), object(2)\n",
      "memory usage: 7.9+ MB\n"
     ]
    }
   ],
   "source": [
    "df = pd.read_csv('dataset/hog_features.csv')\n",
    "df.info()"
   ]
  },
  {
   "cell_type": "code",
   "execution_count": 82,
   "id": "b2b4f94f",
   "metadata": {},
   "outputs": [
    {
     "data": {
      "text/html": [
       "<div>\n",
       "<style scoped>\n",
       "    .dataframe tbody tr th:only-of-type {\n",
       "        vertical-align: middle;\n",
       "    }\n",
       "\n",
       "    .dataframe tbody tr th {\n",
       "        vertical-align: top;\n",
       "    }\n",
       "\n",
       "    .dataframe thead th {\n",
       "        text-align: right;\n",
       "    }\n",
       "</style>\n",
       "<table border=\"1\" class=\"dataframe\">\n",
       "  <thead>\n",
       "    <tr style=\"text-align: right;\">\n",
       "      <th></th>\n",
       "      <th>filename</th>\n",
       "      <th>label</th>\n",
       "      <th>f1</th>\n",
       "      <th>f2</th>\n",
       "      <th>f3</th>\n",
       "      <th>f4</th>\n",
       "      <th>f5</th>\n",
       "      <th>f6</th>\n",
       "      <th>f7</th>\n",
       "      <th>f8</th>\n",
       "      <th>...</th>\n",
       "      <th>f8091</th>\n",
       "      <th>f8092</th>\n",
       "      <th>f8093</th>\n",
       "      <th>f8094</th>\n",
       "      <th>f8095</th>\n",
       "      <th>f8096</th>\n",
       "      <th>f8097</th>\n",
       "      <th>f8098</th>\n",
       "      <th>f8099</th>\n",
       "      <th>f8100</th>\n",
       "    </tr>\n",
       "  </thead>\n",
       "  <tbody>\n",
       "    <tr>\n",
       "      <th>0</th>\n",
       "      <td>baterai_1_20250609_114333</td>\n",
       "      <td>baterai</td>\n",
       "      <td>0.0</td>\n",
       "      <td>0.0</td>\n",
       "      <td>0.0</td>\n",
       "      <td>0.0</td>\n",
       "      <td>0.0</td>\n",
       "      <td>0.0</td>\n",
       "      <td>0.0</td>\n",
       "      <td>0.0</td>\n",
       "      <td>...</td>\n",
       "      <td>0.0</td>\n",
       "      <td>0.0</td>\n",
       "      <td>0.0</td>\n",
       "      <td>0.0</td>\n",
       "      <td>0.0</td>\n",
       "      <td>0.0</td>\n",
       "      <td>0.0</td>\n",
       "      <td>0.0</td>\n",
       "      <td>0.0</td>\n",
       "      <td>0.0</td>\n",
       "    </tr>\n",
       "    <tr>\n",
       "      <th>1</th>\n",
       "      <td>baterai_1_20250609_114333_rot90</td>\n",
       "      <td>baterai</td>\n",
       "      <td>0.0</td>\n",
       "      <td>0.0</td>\n",
       "      <td>0.0</td>\n",
       "      <td>0.0</td>\n",
       "      <td>0.0</td>\n",
       "      <td>0.0</td>\n",
       "      <td>0.0</td>\n",
       "      <td>0.0</td>\n",
       "      <td>...</td>\n",
       "      <td>0.0</td>\n",
       "      <td>0.0</td>\n",
       "      <td>0.0</td>\n",
       "      <td>0.0</td>\n",
       "      <td>0.0</td>\n",
       "      <td>0.0</td>\n",
       "      <td>0.0</td>\n",
       "      <td>0.0</td>\n",
       "      <td>0.0</td>\n",
       "      <td>0.0</td>\n",
       "    </tr>\n",
       "    <tr>\n",
       "      <th>2</th>\n",
       "      <td>baterai_1_20250609_114333_rot180</td>\n",
       "      <td>baterai</td>\n",
       "      <td>0.0</td>\n",
       "      <td>0.0</td>\n",
       "      <td>0.0</td>\n",
       "      <td>0.0</td>\n",
       "      <td>0.0</td>\n",
       "      <td>0.0</td>\n",
       "      <td>0.0</td>\n",
       "      <td>0.0</td>\n",
       "      <td>...</td>\n",
       "      <td>0.0</td>\n",
       "      <td>0.0</td>\n",
       "      <td>0.0</td>\n",
       "      <td>0.0</td>\n",
       "      <td>0.0</td>\n",
       "      <td>0.0</td>\n",
       "      <td>0.0</td>\n",
       "      <td>0.0</td>\n",
       "      <td>0.0</td>\n",
       "      <td>0.0</td>\n",
       "    </tr>\n",
       "    <tr>\n",
       "      <th>3</th>\n",
       "      <td>baterai_1_20250609_114333_rot270</td>\n",
       "      <td>baterai</td>\n",
       "      <td>0.0</td>\n",
       "      <td>0.0</td>\n",
       "      <td>0.0</td>\n",
       "      <td>0.0</td>\n",
       "      <td>0.0</td>\n",
       "      <td>0.0</td>\n",
       "      <td>0.0</td>\n",
       "      <td>0.0</td>\n",
       "      <td>...</td>\n",
       "      <td>0.0</td>\n",
       "      <td>0.0</td>\n",
       "      <td>0.0</td>\n",
       "      <td>0.0</td>\n",
       "      <td>0.0</td>\n",
       "      <td>0.0</td>\n",
       "      <td>0.0</td>\n",
       "      <td>0.0</td>\n",
       "      <td>0.0</td>\n",
       "      <td>0.0</td>\n",
       "    </tr>\n",
       "    <tr>\n",
       "      <th>4</th>\n",
       "      <td>baterai_12_20250609_114439</td>\n",
       "      <td>baterai</td>\n",
       "      <td>0.0</td>\n",
       "      <td>0.0</td>\n",
       "      <td>0.0</td>\n",
       "      <td>0.0</td>\n",
       "      <td>0.0</td>\n",
       "      <td>0.0</td>\n",
       "      <td>0.0</td>\n",
       "      <td>0.0</td>\n",
       "      <td>...</td>\n",
       "      <td>0.0</td>\n",
       "      <td>0.0</td>\n",
       "      <td>0.0</td>\n",
       "      <td>0.0</td>\n",
       "      <td>0.0</td>\n",
       "      <td>0.0</td>\n",
       "      <td>0.0</td>\n",
       "      <td>0.0</td>\n",
       "      <td>0.0</td>\n",
       "      <td>0.0</td>\n",
       "    </tr>\n",
       "  </tbody>\n",
       "</table>\n",
       "<p>5 rows × 8102 columns</p>\n",
       "</div>"
      ],
      "text/plain": [
       "                           filename    label   f1   f2   f3   f4   f5   f6  \\\n",
       "0         baterai_1_20250609_114333  baterai  0.0  0.0  0.0  0.0  0.0  0.0   \n",
       "1   baterai_1_20250609_114333_rot90  baterai  0.0  0.0  0.0  0.0  0.0  0.0   \n",
       "2  baterai_1_20250609_114333_rot180  baterai  0.0  0.0  0.0  0.0  0.0  0.0   \n",
       "3  baterai_1_20250609_114333_rot270  baterai  0.0  0.0  0.0  0.0  0.0  0.0   \n",
       "4        baterai_12_20250609_114439  baterai  0.0  0.0  0.0  0.0  0.0  0.0   \n",
       "\n",
       "    f7   f8  ...  f8091  f8092  f8093  f8094  f8095  f8096  f8097  f8098  \\\n",
       "0  0.0  0.0  ...    0.0    0.0    0.0    0.0    0.0    0.0    0.0    0.0   \n",
       "1  0.0  0.0  ...    0.0    0.0    0.0    0.0    0.0    0.0    0.0    0.0   \n",
       "2  0.0  0.0  ...    0.0    0.0    0.0    0.0    0.0    0.0    0.0    0.0   \n",
       "3  0.0  0.0  ...    0.0    0.0    0.0    0.0    0.0    0.0    0.0    0.0   \n",
       "4  0.0  0.0  ...    0.0    0.0    0.0    0.0    0.0    0.0    0.0    0.0   \n",
       "\n",
       "   f8099  f8100  \n",
       "0    0.0    0.0  \n",
       "1    0.0    0.0  \n",
       "2    0.0    0.0  \n",
       "3    0.0    0.0  \n",
       "4    0.0    0.0  \n",
       "\n",
       "[5 rows x 8102 columns]"
      ]
     },
     "execution_count": 82,
     "metadata": {},
     "output_type": "execute_result"
    }
   ],
   "source": [
    "df.head()"
   ]
  },
  {
   "cell_type": "code",
   "execution_count": 4,
   "id": "a8bd6f89",
   "metadata": {},
   "outputs": [
    {
     "data": {
      "text/plain": [
       "array([[0., 0., 0., ..., 0., 0., 0.],\n",
       "       [0., 0., 0., ..., 0., 0., 0.],\n",
       "       [0., 0., 0., ..., 0., 0., 0.],\n",
       "       ...,\n",
       "       [0., 0., 0., ..., 0., 0., 0.],\n",
       "       [0., 0., 0., ..., 0., 0., 0.],\n",
       "       [0., 0., 0., ..., 0., 0., 0.]])"
      ]
     },
     "execution_count": 4,
     "metadata": {},
     "output_type": "execute_result"
    }
   ],
   "source": [
    "X = df.drop(columns=['filename', 'label']).values\n",
    "y = df['label'].values\n",
    "X_train, X_test, y_train, y_test = train_test_split(X, y, test_size=0.2, random_state=100, stratify=y)\n",
    "X_train"
   ]
  },
  {
   "cell_type": "code",
   "execution_count": 84,
   "id": "feb8f802",
   "metadata": {},
   "outputs": [],
   "source": [
    "pipelines = {\n",
    "    'SVC': make_pipeline(StandardScaler(), SVC(kernel='linear', probability=True, random_state=42)),\n",
    "    'AdaBoost': make_pipeline(StandardScaler(), AdaBoostClassifier(n_estimators=100, random_state=42)),\n",
    "    'RandomForest': make_pipeline(StandardScaler(), RandomForestClassifier(n_estimators=100, random_state=42))\n",
    "}"
   ]
  },
  {
   "cell_type": "code",
   "execution_count": 78,
   "id": "5016ae1a",
   "metadata": {},
   "outputs": [],
   "source": [
    "params = {\n",
    "    'SVC': {\n",
    "        'svc__kernel': ['linear', 'rbf'],        \n",
    "        'svc__C': [0.1, 1, 10],                  \n",
    "        'svc__gamma': ['scale', 'auto']         \n",
    "    },\n",
    "    'AdaBoost': {\n",
    "        'adaboostclassifier__n_estimators': [50, 100, 200],\n",
    "        'adaboostclassifier__learning_rate': [0.01, 0.1, 1]\n",
    "    },\n",
    "    'RandomForest': {\n",
    "        'randomforestclassifier__n_estimators': [50, 100, 200],\n",
    "        'randomforestclassifier__max_depth': [None, 10, 20],\n",
    "        'randomforestclassifier__min_samples_split': [2, 5, 10]\n",
    "    }\n",
    "}"
   ]
  },
  {
   "cell_type": "code",
   "execution_count": 85,
   "id": "c8b57663",
   "metadata": {},
   "outputs": [
    {
     "name": "stdout",
     "output_type": "stream",
     "text": [
      "Tuning SVC...\n",
      "Best params for SVC: {'svc__C': 0.1, 'svc__gamma': 'scale', 'svc__kernel': 'linear'}\n",
      "Best CV accuracy for SVC: 0.7629\n",
      "Classification report for SVC:\n",
      "               precision    recall  f1-score   support\n",
      "\n",
      "     aerosol       0.70      0.88      0.78         8\n",
      "     baterai       0.75      0.33      0.46         9\n",
      "       lampu       0.67      0.89      0.76         9\n",
      "\n",
      "    accuracy                           0.69        26\n",
      "   macro avg       0.71      0.70      0.67        26\n",
      "weighted avg       0.71      0.69      0.66        26\n",
      "\n",
      "Confusion Matrix for SVC:\n"
     ]
    },
    {
     "data": {
      "image/png": "[encoded data removed]",
      "text/plain": [
       "<Figure size 640x480 with 2 Axes>"
      ]
     },
     "metadata": {},
     "output_type": "display_data"
    },
    {
     "name": "stdout",
     "output_type": "stream",
     "text": [
      "--------------------------------------------------\n",
      "Tuning AdaBoost...\n",
      "Best params for AdaBoost: {'adaboostclassifier__learning_rate': 1, 'adaboostclassifier__n_estimators': 200}\n",
      "Best CV accuracy for AdaBoost: 0.6667\n",
      "Classification report for AdaBoost:\n",
      "               precision    recall  f1-score   support\n",
      "\n",
      "     aerosol       0.62      1.00      0.76         8\n",
      "     baterai       0.71      0.56      0.62         9\n",
      "       lampu       1.00      0.67      0.80         9\n",
      "\n",
      "    accuracy                           0.73        26\n",
      "   macro avg       0.78      0.74      0.73        26\n",
      "weighted avg       0.78      0.73      0.73        26\n",
      "\n",
      "Confusion Matrix for AdaBoost:\n"
     ]
    },
    {
     "data": {
      "image/png": "[encoded data removed]",
      "text/plain": [
       "<Figure size 640x480 with 2 Axes>"
      ]
     },
     "metadata": {},
     "output_type": "display_data"
    },
    {
     "name": "stdout",
     "output_type": "stream",
     "text": [
      "--------------------------------------------------\n",
      "Tuning RandomForest...\n",
      "Best params for RandomForest: {'randomforestclassifier__max_depth': None, 'randomforestclassifier__min_samples_split': 10, 'randomforestclassifier__n_estimators': 200}\n",
      "Best CV accuracy for RandomForest: 0.7148\n",
      "Classification report for RandomForest:\n",
      "               precision    recall  f1-score   support\n",
      "\n",
      "     aerosol       0.64      0.88      0.74         8\n",
      "     baterai       0.80      0.44      0.57         9\n",
      "       lampu       0.70      0.78      0.74         9\n",
      "\n",
      "    accuracy                           0.69        26\n",
      "   macro avg       0.71      0.70      0.68        26\n",
      "weighted avg       0.72      0.69      0.68        26\n",
      "\n",
      "Confusion Matrix for RandomForest:\n"
     ]
    },
    {
     "data": {
      "image/png": "[encoded data removed]",
      "text/plain": [
       "<Figure size 640x480 with 2 Axes>"
      ]
     },
     "metadata": {},
     "output_type": "display_data"
    },
    {
     "name": "stdout",
     "output_type": "stream",
     "text": [
      "--------------------------------------------------\n"
     ]
    }
   ],
   "source": [
    "best_models = {}\n",
    "\n",
    "for name in pipelines:\n",
    "    print(f\"Tuning {name}...\")\n",
    "    grid = GridSearchCV(pipelines[name], params[name], cv=5, n_jobs=-1, scoring='accuracy')\n",
    "    grid.fit(X_train, y_train)\n",
    "    \n",
    "    print(f\"Best params for {name}: {grid.best_params_}\")\n",
    "    print(f\"Best CV accuracy for {name}: {grid.best_score_:.4f}\")\n",
    "    \n",
    "    best_models[name] = grid.best_estimator_\n",
    "\n",
    "    y_pred = best_models[name].predict(X_test)\n",
    "    \n",
    "    print(f\"Classification report for {name}:\\n\", classification_report(y_test, y_pred))\n",
    "    \n",
    "    # Confusion matrix\n",
    "    print(f\"Confusion Matrix for {name}:\")\n",
    "    disp = ConfusionMatrixDisplay.from_estimator(best_models[name], X_test, y_test)\n",
    "    plt.title(f\"Confusion Matrix - {name}\")\n",
    "    plt.show()\n",
    "\n",
    "    print(\"-\" * 50)"
   ]
  },
  {
   "cell_type": "code",
   "execution_count": 86,
   "id": "4bb38137",
   "metadata": {},
   "outputs": [
    {
     "data": {
      "text/plain": [
       "['best_svc_model.joblib']"
      ]
     },
     "execution_count": 86,
     "metadata": {},
     "output_type": "execute_result"
    }
   ],
   "source": [
    "joblib.dump(best_models['SVC'], 'best_svc_model.joblib')"
   ]
  }
 ],
 "metadata": {
  "kernelspec": {
   "display_name": "Python 3",
   "language": "python",
   "name": "python3"
  },
  "language_info": {
   "codemirror_mode": {
    "name": "ipython",
    "version": 3
   },
   "file_extension": ".py",
   "mimetype": "text/x-python",
   "name": "python",
   "nbconvert_exporter": "python",
   "pygments_lexer": "ipython3",
   "version": "3.12.0"
  }
 },
 "nbformat": 4,
 "nbformat_minor": 5
}
